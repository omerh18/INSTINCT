{
 "cells": [
  {
   "cell_type": "markdown",
   "metadata": {},
   "source": [
    "# INSTINCT - INception based Symbolic Time INtervals ClassificaTion  "
   ]
  },
  {
   "cell_type": "markdown",
   "metadata": {},
   "source": [
    "# Init"
   ]
  },
  {
   "cell_type": "code",
   "execution_count": null,
   "metadata": {},
   "outputs": [],
   "source": [
    "from utils import *"
   ]
  },
  {
   "cell_type": "markdown",
   "metadata": {},
   "source": [
    "# Experiments"
   ]
  },
  {
   "cell_type": "markdown",
   "metadata": {},
   "source": [
    "## Complexity Analysis"
   ]
  },
  {
   "cell_type": "code",
   "execution_count": null,
   "metadata": {},
   "outputs": [],
   "source": [
    "from experiments.complexity_experiments.complexity_experiments_config import rgt_data_sampling_dict, tt_data_sampling_dict, \\\n",
    "    ENTITIES_NUM_CODE, STIS_NUM_CODE, STIS_SERIES_LEN_CODE, SYMBOLS_NUM_CODE"
   ]
  },
  {
   "cell_type": "code",
   "execution_count": null,
   "metadata": {},
   "outputs": [],
   "source": [
    "from experiments.complexity_experiments.complexity_experiments import \\\n",
    "    run_representation_generation_per_sample, run_training_per_sample"
   ]
  },
  {
   "cell_type": "code",
   "execution_count": null,
   "metadata": {},
   "outputs": [],
   "source": [
    "SYNTHETIC_COMPLEXITY_DATASET_NAME = 'synthetic_data'"
   ]
  },
  {
   "cell_type": "code",
   "execution_count": null,
   "metadata": {},
   "outputs": [],
   "source": [
    "create_synthetic_dataset(\n",
    "    stis_series_len=1024, \n",
    "    entities_num=10000, \n",
    "    symbols_num=128,\n",
    "    stis_num=256,\n",
    "    labels_num=2,\n",
    "    name=SYNTHETIC_COMPLEXITY_DATASET_NAME\n",
    ")"
   ]
  },
  {
   "cell_type": "code",
   "execution_count": null,
   "metadata": {},
   "outputs": [],
   "source": [
    "labels_df, data_df, dataset = read_specific_dataset(SYNTHETIC_COMPLEXITY_DATASET_NAME)"
   ]
  },
  {
   "cell_type": "markdown",
   "metadata": {},
   "source": [
    "### Representation Generation Time (RGT)"
   ]
  },
  {
   "cell_type": "markdown",
   "metadata": {},
   "source": [
    "#### RGT by Dataset Size"
   ]
  },
  {
   "cell_type": "code",
   "execution_count": null,
   "metadata": {},
   "outputs": [],
   "source": [
    "df = run_representation_generation_per_sample(\n",
    "    labels_df, data_df, \n",
    "    ENTITIES_NUM_CODE, rgt_data_sampling_dict, \n",
    "    experiment_name='rgt_num_entities'\n",
    ")"
   ]
  },
  {
   "cell_type": "markdown",
   "metadata": {},
   "source": [
    "#### RGT by Number of STIs"
   ]
  },
  {
   "cell_type": "code",
   "execution_count": null,
   "metadata": {
    "scrolled": true
   },
   "outputs": [],
   "source": [
    "df = run_representation_generation_per_sample(\n",
    "    labels_df, data_df, \n",
    "    STIS_NUM_CODE, rgt_data_sampling_dict, \n",
    "    experiment_name='rgt_num_stis'\n",
    ")"
   ]
  },
  {
   "cell_type": "markdown",
   "metadata": {},
   "source": [
    "#### RGT by STIs Series Length"
   ]
  },
  {
   "cell_type": "code",
   "execution_count": null,
   "metadata": {},
   "outputs": [],
   "source": [
    "df = run_representation_generation_per_sample(\n",
    "    labels_df, data_df, \n",
    "    STIS_SERIES_LEN_CODE, rgt_data_sampling_dict, \n",
    "    experiment_name='rgt_stis_series_len'\n",
    ")"
   ]
  },
  {
   "cell_type": "markdown",
   "metadata": {},
   "source": [
    "#### RGT by Number of Symbols"
   ]
  },
  {
   "cell_type": "code",
   "execution_count": null,
   "metadata": {},
   "outputs": [],
   "source": [
    "df = run_representation_generation_per_sample(\n",
    "    labels_df, data_df, \n",
    "    SYMBOLS_NUM_CODE, rgt_data_sampling_dict, \n",
    "    experiment_name='rgt_num_symbols'\n",
    ")"
   ]
  },
  {
   "cell_type": "code",
   "execution_count": null,
   "metadata": {},
   "outputs": [],
   "source": []
  },
  {
   "cell_type": "markdown",
   "metadata": {},
   "source": [
    "### Training Time (TT)"
   ]
  },
  {
   "cell_type": "code",
   "execution_count": null,
   "metadata": {},
   "outputs": [],
   "source": [
    "complexity_analysis_model_configuration = {\n",
    "    'depth': 3,\n",
    "    'use_residual': False,\n",
    "    'kernel_sizes': [20, 30, 40], \n",
    "    'bottleneck_size': 32\n",
    "}"
   ]
  },
  {
   "cell_type": "markdown",
   "metadata": {},
   "source": [
    "#### Training Time by Dataset Size"
   ]
  },
  {
   "cell_type": "code",
   "execution_count": null,
   "metadata": {
    "scrolled": true
   },
   "outputs": [],
   "source": [
    "df = run_training_per_sample(\n",
    "    labels_df, data_df, \n",
    "    ENTITIES_NUM_CODE, tt_data_sampling_dict, \n",
    "    experiment_name='training_time_num_entities', \n",
    "    model_configuration=complexity_analysis_model_configuration\n",
    ")"
   ]
  },
  {
   "cell_type": "markdown",
   "metadata": {},
   "source": [
    "#### Training Time by STIs Series Length"
   ]
  },
  {
   "cell_type": "code",
   "execution_count": null,
   "metadata": {},
   "outputs": [],
   "source": [
    "df = run_training_per_sample(\n",
    "    labels_df, data_df, \n",
    "    STIS_SERIES_LEN_CODE, tt_data_sampling_dict, \n",
    "    experiment_name='training_time_stis_series_len',\n",
    "    model_configuration=complexity_analysis_model_configuration\n",
    ")"
   ]
  },
  {
   "cell_type": "markdown",
   "metadata": {},
   "source": [
    "#### Training Time by Number of STIs"
   ]
  },
  {
   "cell_type": "code",
   "execution_count": null,
   "metadata": {},
   "outputs": [],
   "source": [
    "df = run_training_per_sample(\n",
    "    labels_df, data_df, \n",
    "    STIS_NUM_CODE, tt_data_sampling_dict, \n",
    "    experiment_name='training_time_num_stis',\n",
    "    model_configuration=complexity_analysis_model_configuration\n",
    ")"
   ]
  },
  {
   "cell_type": "markdown",
   "metadata": {},
   "source": [
    "#### Training Time by Number of Symbols"
   ]
  },
  {
   "cell_type": "code",
   "execution_count": null,
   "metadata": {},
   "outputs": [],
   "source": [
    "df = run_training_per_sample(\n",
    "    labels_df, data_df, \n",
    "    SYMBOLS_NUM_CODE, tt_data_sampling_dict, \n",
    "    experiment_name='training_time_num_symbols',\n",
    "    model_configuration=complexity_analysis_model_configuration\n",
    ")"
   ]
  },
  {
   "cell_type": "code",
   "execution_count": null,
   "metadata": {},
   "outputs": [],
   "source": []
  },
  {
   "cell_type": "markdown",
   "metadata": {},
   "source": [
    "## Architecture Study"
   ]
  },
  {
   "cell_type": "markdown",
   "metadata": {},
   "source": [
    "### Hyper-Params Study"
   ]
  },
  {
   "cell_type": "code",
   "execution_count": null,
   "metadata": {},
   "outputs": [],
   "source": [
    "from experiments.architucture_study_experiments.hyper_params_study import \\\n",
    "    run_hp_tuning_experiment, run_single_hp_analysis_experiment"
   ]
  },
  {
   "cell_type": "code",
   "execution_count": null,
   "metadata": {},
   "outputs": [],
   "source": [
    "from experiments.architucture_study_experiments.hyper_params_study_config import \\\n",
    "    hp_tuning_config, hp_num_classifiers_config, hp_bottleneck_size_config, hp_residual_config, hp_depth_config, \\\n",
    "    hp_number_of_filters_config, hp_filter_length_config"
   ]
  },
  {
   "cell_type": "markdown",
   "metadata": {},
   "source": [
    "#### Best Hyper-Params Search"
   ]
  },
  {
   "cell_type": "code",
   "execution_count": null,
   "metadata": {},
   "outputs": [],
   "source": [
    "hp_tuning_config"
   ]
  },
  {
   "cell_type": "code",
   "execution_count": null,
   "metadata": {},
   "outputs": [],
   "source": [
    "best_overall_scores, best_accuracy_configs, best_auc_configs = run_hp_tuning_experiment(**hp_tuning_config)"
   ]
  },
  {
   "cell_type": "markdown",
   "metadata": {},
   "source": [
    "#### Number of Classifiers"
   ]
  },
  {
   "cell_type": "code",
   "execution_count": null,
   "metadata": {},
   "outputs": [],
   "source": [
    "hp_num_classifiers_config"
   ]
  },
  {
   "cell_type": "code",
   "execution_count": null,
   "metadata": {},
   "outputs": [],
   "source": [
    "hp_num_classifiers_results_df = run_single_hp_analysis_experiment(**hp_num_classifiers_config)"
   ]
  },
  {
   "cell_type": "markdown",
   "metadata": {},
   "source": [
    "#### Bottleneck Size"
   ]
  },
  {
   "cell_type": "code",
   "execution_count": null,
   "metadata": {
    "scrolled": true
   },
   "outputs": [],
   "source": [
    "hp_bottleneck_size_config"
   ]
  },
  {
   "cell_type": "code",
   "execution_count": null,
   "metadata": {},
   "outputs": [],
   "source": [
    "hp_bottleneck_size_results_df = run_single_hp_analysis_experiment(**hp_bottleneck_size_config)"
   ]
  },
  {
   "cell_type": "markdown",
   "metadata": {},
   "source": [
    "#### Residual Connections"
   ]
  },
  {
   "cell_type": "code",
   "execution_count": null,
   "metadata": {
    "scrolled": true
   },
   "outputs": [],
   "source": [
    "hp_residual_config"
   ]
  },
  {
   "cell_type": "code",
   "execution_count": null,
   "metadata": {},
   "outputs": [],
   "source": [
    "hp_residual_results_df = run_single_hp_analysis_experiment(**hp_residual_config)"
   ]
  },
  {
   "cell_type": "markdown",
   "metadata": {},
   "source": [
    "#### Depth"
   ]
  },
  {
   "cell_type": "code",
   "execution_count": null,
   "metadata": {
    "scrolled": true
   },
   "outputs": [],
   "source": [
    "hp_depth_config"
   ]
  },
  {
   "cell_type": "code",
   "execution_count": null,
   "metadata": {},
   "outputs": [],
   "source": [
    "hp_depth_results_df = run_single_hp_analysis_experiment(**hp_depth_config)"
   ]
  },
  {
   "cell_type": "markdown",
   "metadata": {},
   "source": [
    "#### Number of Filters"
   ]
  },
  {
   "cell_type": "code",
   "execution_count": null,
   "metadata": {
    "scrolled": true
   },
   "outputs": [],
   "source": [
    "hp_number_of_filters_config"
   ]
  },
  {
   "cell_type": "code",
   "execution_count": null,
   "metadata": {},
   "outputs": [],
   "source": [
    "hp_number_of_filters_results_df = run_single_hp_analysis_experiment(**hp_number_of_filters_config)"
   ]
  },
  {
   "cell_type": "markdown",
   "metadata": {},
   "source": [
    "#### Filter Length"
   ]
  },
  {
   "cell_type": "code",
   "execution_count": null,
   "metadata": {
    "scrolled": true
   },
   "outputs": [],
   "source": [
    "hp_filter_length_config"
   ]
  },
  {
   "cell_type": "code",
   "execution_count": null,
   "metadata": {},
   "outputs": [],
   "source": [
    "hp_filter_length_results_df = run_single_hp_analysis_experiment(**hp_filter_length_config)"
   ]
  },
  {
   "cell_type": "code",
   "execution_count": null,
   "metadata": {},
   "outputs": [],
   "source": []
  },
  {
   "cell_type": "markdown",
   "metadata": {},
   "source": [
    "### FAP vs GAP"
   ]
  },
  {
   "cell_type": "code",
   "execution_count": null,
   "metadata": {},
   "outputs": [],
   "source": [
    "from experiments.architucture_study_experiments.pooling_study import run_pooling_benchmark_experiment"
   ]
  },
  {
   "cell_type": "code",
   "execution_count": null,
   "metadata": {},
   "outputs": [],
   "source": [
    "from experiments.architucture_study_experiments.pooling_study_config import pooling_benchmark_config"
   ]
  },
  {
   "cell_type": "code",
   "execution_count": null,
   "metadata": {},
   "outputs": [],
   "source": [
    "pooling_benchmark_config"
   ]
  },
  {
   "cell_type": "code",
   "execution_count": null,
   "metadata": {},
   "outputs": [],
   "source": [
    "pooling_benchmark_results_df = run_pooling_benchmark_experiment(**pooling_benchmark_config)"
   ]
  },
  {
   "cell_type": "code",
   "execution_count": null,
   "metadata": {},
   "outputs": [],
   "source": []
  }
 ],
 "metadata": {
  "kernelspec": {
   "display_name": "Python 3",
   "language": "python",
   "name": "python3"
  },
  "language_info": {
   "codemirror_mode": {
    "name": "ipython",
    "version": 3
   },
   "file_extension": ".py",
   "mimetype": "text/x-python",
   "name": "python",
   "nbconvert_exporter": "python",
   "pygments_lexer": "ipython3",
   "version": "3.8.8"
  }
 },
 "nbformat": 4,
 "nbformat_minor": 2
}
